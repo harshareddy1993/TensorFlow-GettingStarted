{
  "nbformat": 4,
  "nbformat_minor": 0,
  "metadata": {
    "colab": {
      "name": "Getting Started.ipynb",
      "provenance": [],
      "authorship_tag": "ABX9TyMVu5U3/aW3nyNMvvLbb+pl",
      "include_colab_link": true
    },
    "kernelspec": {
      "name": "python3",
      "display_name": "Python 3"
    },
    "accelerator": "GPU"
  },
  "cells": [
    {
      "cell_type": "markdown",
      "metadata": {
        "id": "view-in-github",
        "colab_type": "text"
      },
      "source": [
        "<a href=\"https://colab.research.google.com/github/harshareddy1993/TensorFlow-GettingStarted/blob/master/Getting_Started.ipynb\" target=\"_parent\"><img src=\"https://colab.research.google.com/assets/colab-badge.svg\" alt=\"Open In Colab\"/></a>"
      ]
    },
    {
      "cell_type": "markdown",
      "metadata": {
        "id": "RPUCLOILVpnH",
        "colab_type": "text"
      },
      "source": [
        "Training a Model"
      ]
    },
    {
      "cell_type": "code",
      "metadata": {
        "id": "YNBnrkXcCqhc",
        "colab_type": "code",
        "colab": {}
      },
      "source": [
        "import tensorflow as tf\n",
        "tf.get_logger().setLevel('ERROR')\n",
        "import numpy as np"
      ],
      "execution_count": 4,
      "outputs": []
    },
    {
      "cell_type": "code",
      "metadata": {
        "id": "bu9u0mlFC1kj",
        "colab_type": "code",
        "colab": {
          "base_uri": "https://localhost:8080/",
          "height": 136
        },
        "outputId": "75bcc8cb-c20b-4771-8836-fad098bacb11"
      },
      "source": [
        "celcius = np.array([-40, -10,  0,  8, 15, 22,  38],  dtype=float)\n",
        "farenheit = np.array([-40,  14, 32, 46, 59, 72, 100],  dtype=float)\n",
        "\n",
        "for i,e in enumerate(celcius):\n",
        "  print(\"{} C in F is {}\".format(e,farenheit[i]))"
      ],
      "execution_count": 6,
      "outputs": [
        {
          "output_type": "stream",
          "text": [
            "-40.0 C in F is -40.0\n",
            "-10.0 C in F is 14.0\n",
            "0.0 C in F is 32.0\n",
            "8.0 C in F is 46.0\n",
            "15.0 C in F is 59.0\n",
            "22.0 C in F is 72.0\n",
            "38.0 C in F is 100.0\n"
          ],
          "name": "stdout"
        }
      ]
    },
    {
      "cell_type": "code",
      "metadata": {
        "id": "-lcKdZWRELpf",
        "colab_type": "code",
        "colab": {}
      },
      "source": [
        "# Creating a model with a single dense layer called a Dense network.\n",
        "# The layer l0 is created by instantiating tf.keras.layers.Dense with two parameters: units and input_shape.\n",
        "# input_shape=[1] specifies the shape of input to the layer as a one dimensional array.\n",
        "# units=1 describes the number of neurons in the layer. The number of neurons define how many internal variables (weights) the layer has to learn in order to solve the problem.\n",
        "\n",
        "l0 = tf.keras.layers.Dense(units=1, input_shape=[1])\n"
      ],
      "execution_count": 18,
      "outputs": []
    },
    {
      "cell_type": "code",
      "metadata": {
        "id": "XfkCcN5wFm6c",
        "colab_type": "code",
        "colab": {}
      },
      "source": [
        "# Assemble the created layers into the model.\n",
        "\n",
        "model = tf.keras.Sequential([l0])"
      ],
      "execution_count": 19,
      "outputs": []
    },
    {
      "cell_type": "markdown",
      "metadata": {
        "id": "JQoEyf93GDzL",
        "colab_type": "text"
      },
      "source": [
        "Compile the model with loss and optimizer functions.\n",
        "\n",
        "Before training, the model has to be compiled with loss and optimizer funrcitons.\n",
        "\n",
        "- Loss Function: A way of measuring how far off predictions of the model are from the desired output.\n",
        "- Optimizer Function: A way of adjusting internal values in order to reduce the loss funciton.\n",
        "\n",
        "Notice the 0.1 passed to the optimizer is called learning rate. This tells tensor flow how aggressively it should try to find the best model"
      ]
    },
    {
      "cell_type": "code",
      "metadata": {
        "id": "EiKTGKh6F0c9",
        "colab_type": "code",
        "colab": {}
      },
      "source": [
        "model.compile(loss='mean_squared_error', optimizer=tf.keras.optimizers.Adam(0.1))"
      ],
      "execution_count": 20,
      "outputs": []
    },
    {
      "cell_type": "markdown",
      "metadata": {
        "id": "UQi6YMmkHg-9",
        "colab_type": "text"
      },
      "source": [
        "Train the model by calling fit method.\n",
        "\n",
        "During the training process, the model takes in Celsius values and performs a calculation using the internal variables (weights) and outputs the values which are meant to be in Farenheit. Since the initial weights are set in random, the output will be far off from the expected output. The loss function calculates the difference between initial and expected output and the optimizer function directs how the weights are to be adjusted.\n",
        "\n",
        "This cycle of calculate, compare and adjust is controlled by the fit method. The first argument are the inputs to the model and the second argument are the desired outputs. The epochs argument specifies the number of times this cycle is to be run for each input-output combination."
      ]
    },
    {
      "cell_type": "code",
      "metadata": {
        "id": "7izMTcnhIucd",
        "colab_type": "code",
        "colab": {
          "base_uri": "https://localhost:8080/",
          "height": 34
        },
        "outputId": "ad218c20-a79f-477d-bf9b-00ee71982ced"
      },
      "source": [
        "training_stats = model.fit(celcius, farenheit, epochs=500, verbose= 0)\n",
        "print(\"Finished training the model\")"
      ],
      "execution_count": 21,
      "outputs": [
        {
          "output_type": "stream",
          "text": [
            "Finished training the model\n"
          ],
          "name": "stdout"
        }
      ]
    },
    {
      "cell_type": "code",
      "metadata": {
        "id": "VrO7O13YI-Ac",
        "colab_type": "code",
        "colab": {
          "base_uri": "https://localhost:8080/",
          "height": 296
        },
        "outputId": "fd7737a6-3717-43f4-b8a0-dfaa1b129743"
      },
      "source": [
        "import matplotlib.pyplot as plt\n",
        "\n",
        "plt.xlabel('Epoch Number')\n",
        "plt.ylabel('Loss Magnitude')\n",
        "\n",
        "plt.plot(training_stats.history['loss'])"
      ],
      "execution_count": 22,
      "outputs": [
        {
          "output_type": "execute_result",
          "data": {
            "text/plain": [
              "[<matplotlib.lines.Line2D at 0x7f82dc04bcf8>]"
            ]
          },
          "metadata": {
            "tags": []
          },
          "execution_count": 22
        },
        {
          "output_type": "display_data",
          "data": {
            "image/png": "[encoded data removed]",
            "text/plain": [
              "<Figure size 432x288 with 1 Axes>"
            ]
          },
          "metadata": {
            "tags": [],
            "needs_background": "light"
          }
        }
      ]
    },
    {
      "cell_type": "code",
      "metadata": {
        "id": "UFCYk8U3Jfej",
        "colab_type": "code",
        "colab": {
          "base_uri": "https://localhost:8080/",
          "height": 34
        },
        "outputId": "83d2cfce-b771-482a-ff27-322547d4ad5e"
      },
      "source": [
        "# Predicting values using the trained model.\n",
        "\n",
        "model.predict([100.0])"
      ],
      "execution_count": 23,
      "outputs": [
        {
          "output_type": "execute_result",
          "data": {
            "text/plain": [
              "array([[211.3382]], dtype=float32)"
            ]
          },
          "metadata": {
            "tags": []
          },
          "execution_count": 23
        }
      ]
    },
    {
      "cell_type": "markdown",
      "metadata": {
        "id": "DxpC1fLbKVwh",
        "colab_type": "text"
      },
      "source": [
        "To summarize, this notebook created a training model with a single dense layer. This model was trained with 3500 examples (7 input-output combinations over 500 epochs)."
      ]
    },
    {
      "cell_type": "code",
      "metadata": {
        "id": "-_BF4MSoKosy",
        "colab_type": "code",
        "colab": {
          "base_uri": "https://localhost:8080/",
          "height": 34
        },
        "outputId": "61f61f5f-e5dc-45ae-b347-5c76bdaf6e62"
      },
      "source": [
        "print(\"Internal variables (weights) of the layer: {}\".format(l0.get_weights()))"
      ],
      "execution_count": 24,
      "outputs": [
        {
          "output_type": "stream",
          "text": [
            "Internal variables (weights) of the layer: [array([[1.8204046]], dtype=float32), array([29.297724], dtype=float32)]\n"
          ],
          "name": "stdout"
        }
      ]
    }
  ]
}